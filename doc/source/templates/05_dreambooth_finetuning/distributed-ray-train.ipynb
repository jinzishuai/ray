{
 "cells": [
  {
   "cell_type": "markdown",
   "id": "90cb3183-b6d0-49f2-8959-73970bebfdba",
   "metadata": {},
   "source": [
    "Notebook to run https://docs.ray.io/en/latest/train/examples/pytorch/dreambooth_finetuning.html"
   ]
  },
  {
   "cell_type": "code",
   "execution_count": 1,
   "id": "fe6c4112-602d-4ab9-93f8-190db698c530",
   "metadata": {
    "tags": []
   },
   "outputs": [
    {
     "name": "stdout",
     "output_type": "stream",
     "text": [
      "Wed Dec 13 04:15:20 2023       \n",
      "+---------------------------------------------------------------------------------------+\n",
      "| NVIDIA-SMI 535.54.03              Driver Version: 535.54.03    CUDA Version: 12.2     |\n",
      "|-----------------------------------------+----------------------+----------------------+\n",
      "| GPU  Name                 Persistence-M | Bus-Id        Disp.A | Volatile Uncorr. ECC |\n",
      "| Fan  Temp   Perf          Pwr:Usage/Cap |         Memory-Usage | GPU-Util  Compute M. |\n",
      "|                                         |                      |               MIG M. |\n",
      "|=========================================+======================+======================|\n",
      "|   0  NVIDIA A10G                    On  | 00000000:00:1E.0 Off |                    0 |\n",
      "|  0%   14C    P8               8W / 300W |      4MiB / 23028MiB |      0%      Default |\n",
      "|                                         |                      |                  N/A |\n",
      "+-----------------------------------------+----------------------+----------------------+\n",
      "                                                                                         \n",
      "+---------------------------------------------------------------------------------------+\n",
      "| Processes:                                                                            |\n",
      "|  GPU   GI   CI        PID   Type   Process name                            GPU Memory |\n",
      "|        ID   ID                                                             Usage      |\n",
      "|=======================================================================================|\n",
      "|  No running processes found                                                           |\n",
      "+---------------------------------------------------------------------------------------+\n"
     ]
    }
   ],
   "source": [
    "# Verify NVIDIA GPU is visible\n",
    "!nvidia-smi"
   ]
  },
  {
   "cell_type": "markdown",
   "id": "751bb8b5-beec-4b3b-8c73-a0e73d9d4f7b",
   "metadata": {
    "tags": []
   },
   "source": [
    "# Setup Environment\n",
    "\n",
    "## Checkout forked repo"
   ]
  },
  {
   "cell_type": "code",
   "execution_count": 7,
   "id": "34c3d8cc-8fd7-4c8c-aaf2-11368e5e5610",
   "metadata": {
    "tags": []
   },
   "outputs": [
    {
     "name": "stdout",
     "output_type": "stream",
     "text": [
      "/home/jovyan\n",
      "fatal: destination path 'ray' already exists and is not an empty directory.\n",
      "/home/jovyan\n"
     ]
    }
   ],
   "source": [
    "!cd ~\n",
    "!pwd\n",
    "!git clone https://github.com/jinzishuai/ray.git",
    "!ln -s ray/doc/source/templates/05_dreambooth_finetuning ."
   ]
  },
  {
   "cell_type": "markdown",
   "id": "6ba9f7d0-78cf-4527-9558-3f374c852517",
   "metadata": {},
   "source": [
    "## Install Python Packages"
   ]
  },
  {
   "cell_type": "code",
   "execution_count": 12,
   "id": "e862f6b1-69bf-47c6-9d75-aa247e0fb653",
   "metadata": {
    "tags": []
   },
   "outputs": [
    {
     "name": "stdout",
     "output_type": "stream",
     "text": [
      "/home/jovyan/ray/doc/source/templates/05_dreambooth_finetuning\n"
     ]
    }
   ],
   "source": [
    "# Change the directory\n",
    "import os\n",
    "os.chdir(\"ray/doc/source/templates/05_dreambooth_finetuning\")\n",
    "!pwd"
   ]
  },
  {
   "cell_type": "code",
   "execution_count": 19,
   "id": "a35ac37b-1969-4ae9-98ad-8b1da4cd5c17",
   "metadata": {
    "tags": []
   },
   "outputs": [
    {
     "name": "stdout",
     "output_type": "stream",
     "text": [
      "remote: Enumerating objects: 13, done.\u001b[K\n",
      "remote: Counting objects: 100% (13/13), done.\u001b[K\n",
      "remote: Compressing objects: 100% (1/1), done.\u001b[K\n",
      "remote: Total 7 (delta 5), reused 7 (delta 5), pack-reused 0\u001b[K\n",
      "Unpacking objects: 100% (7/7), 1.42 KiB | 1.42 MiB/s, done.\n",
      "From https://github.com/jinzishuai/ray\n",
      "   a0ae3988cc..fd8358c57e  master     -> origin/master\n",
      "Updating a0ae3988cc..fd8358c57e\n",
      "Fast-forward\n",
      " doc/source/templates/05_dreambooth_finetuning/requirements.txt | 1 \u001b[32m+\u001b[m\n",
      " 1 file changed, 1 insertion(+)\n",
      "Requirement already satisfied: ray in /opt/conda/lib/python3.10/site-packages (from -r requirements.txt (line 1)) (2.8.1)\n",
      "Requirement already satisfied: huggingface-hub in /opt/conda/lib/python3.10/site-packages (from -r requirements.txt (line 2)) (0.19.4)\n",
      "Collecting diffusers\n",
      "  Downloading diffusers-0.24.0-py3-none-any.whl (1.8 MB)\n",
      "\u001b[2K     \u001b[90m━━━━━━━━━━━━━━━━━━━━━━━━━━━━━━━━━━━━━━━━\u001b[0m \u001b[32m1.8/1.8 MB\u001b[0m \u001b[31m58.0 MB/s\u001b[0m eta \u001b[36m0:00:00\u001b[0m\n",
      "\u001b[?25hRequirement already satisfied: packaging in /opt/conda/lib/python3.10/site-packages (from ray->-r requirements.txt (line 1)) (23.0)\n",
      "Requirement already satisfied: msgpack<2.0.0,>=1.0.0 in /opt/conda/lib/python3.10/site-packages (from ray->-r requirements.txt (line 1)) (1.0.5)\n",
      "Requirement already satisfied: frozenlist in /opt/conda/lib/python3.10/site-packages (from ray->-r requirements.txt (line 1)) (1.4.0)\n",
      "Requirement already satisfied: protobuf!=3.19.5,>=3.15.3 in /opt/conda/lib/python3.10/site-packages (from ray->-r requirements.txt (line 1)) (3.19.6)\n",
      "Requirement already satisfied: click>=7.0 in /opt/conda/lib/python3.10/site-packages (from ray->-r requirements.txt (line 1)) (8.1.3)\n",
      "Requirement already satisfied: numpy>=1.19.3 in /opt/conda/lib/python3.10/site-packages (from ray->-r requirements.txt (line 1)) (1.23.5)\n",
      "Requirement already satisfied: aiosignal in /opt/conda/lib/python3.10/site-packages (from ray->-r requirements.txt (line 1)) (1.3.1)\n",
      "Requirement already satisfied: requests in /opt/conda/lib/python3.10/site-packages (from ray->-r requirements.txt (line 1)) (2.28.2)\n",
      "Requirement already satisfied: filelock in /opt/conda/lib/python3.10/site-packages (from ray->-r requirements.txt (line 1)) (3.13.1)\n",
      "Requirement already satisfied: jsonschema in /opt/conda/lib/python3.10/site-packages (from ray->-r requirements.txt (line 1)) (4.17.3)\n",
      "Requirement already satisfied: pyyaml in /opt/conda/lib/python3.10/site-packages (from ray->-r requirements.txt (line 1)) (6.0)\n",
      "Requirement already satisfied: tqdm>=4.42.1 in /opt/conda/lib/python3.10/site-packages (from huggingface-hub->-r requirements.txt (line 2)) (4.65.0)\n",
      "Requirement already satisfied: fsspec>=2023.5.0 in /opt/conda/lib/python3.10/site-packages (from huggingface-hub->-r requirements.txt (line 2)) (2023.12.2)\n",
      "Requirement already satisfied: typing-extensions>=3.7.4.3 in /opt/conda/lib/python3.10/site-packages (from huggingface-hub->-r requirements.txt (line 2)) (4.5.0)\n",
      "Requirement already satisfied: importlib-metadata in /opt/conda/lib/python3.10/site-packages (from diffusers->-r requirements.txt (line 3)) (6.1.0)\n",
      "Collecting regex!=2019.12.17\n",
      "  Downloading regex-2023.10.3-cp310-cp310-manylinux_2_17_x86_64.manylinux2014_x86_64.whl (773 kB)\n",
      "\u001b[2K     \u001b[90m━━━━━━━━━━━━━━━━━━━━━━━━━━━━━━━━━━━━━━\u001b[0m \u001b[32m773.9/773.9 kB\u001b[0m \u001b[31m70.1 MB/s\u001b[0m eta \u001b[36m0:00:00\u001b[0m\n",
      "\u001b[?25hCollecting safetensors>=0.3.1\n",
      "  Downloading safetensors-0.4.1-cp310-cp310-manylinux_2_17_x86_64.manylinux2014_x86_64.whl (1.3 MB)\n",
      "\u001b[2K     \u001b[90m━━━━━━━━━━━━━━━━━━━━━━━━━━━━━━━━━━━━━━━━\u001b[0m \u001b[32m1.3/1.3 MB\u001b[0m \u001b[31m89.7 MB/s\u001b[0m eta \u001b[36m0:00:00\u001b[0m\n",
      "\u001b[?25hRequirement already satisfied: Pillow in /opt/conda/lib/python3.10/site-packages (from diffusers->-r requirements.txt (line 3)) (9.4.0)\n",
      "Requirement already satisfied: zipp>=0.5 in /opt/conda/lib/python3.10/site-packages (from importlib-metadata->diffusers->-r requirements.txt (line 3)) (3.15.0)\n",
      "Requirement already satisfied: attrs>=17.4.0 in /opt/conda/lib/python3.10/site-packages (from jsonschema->ray->-r requirements.txt (line 1)) (22.2.0)\n",
      "Requirement already satisfied: pyrsistent!=0.17.0,!=0.17.1,!=0.17.2,>=0.14.0 in /opt/conda/lib/python3.10/site-packages (from jsonschema->ray->-r requirements.txt (line 1)) (0.19.3)\n",
      "Requirement already satisfied: urllib3<1.27,>=1.21.1 in /opt/conda/lib/python3.10/site-packages (from requests->ray->-r requirements.txt (line 1)) (1.26.15)\n",
      "Requirement already satisfied: certifi>=2017.4.17 in /opt/conda/lib/python3.10/site-packages (from requests->ray->-r requirements.txt (line 1)) (2022.12.7)\n",
      "Requirement already satisfied: idna<4,>=2.5 in /opt/conda/lib/python3.10/site-packages (from requests->ray->-r requirements.txt (line 1)) (3.4)\n",
      "Requirement already satisfied: charset-normalizer<4,>=2 in /opt/conda/lib/python3.10/site-packages (from requests->ray->-r requirements.txt (line 1)) (3.1.0)\n",
      "Installing collected packages: safetensors, regex, diffusers\n",
      "Successfully installed diffusers-0.24.0 regex-2023.10.3 safetensors-0.4.1\n"
     ]
    }
   ],
   "source": [
    "!git pull\n",
    "!pip install -r requirements.txt"
   ]
  },
  {
   "cell_type": "markdown",
   "id": "cb1cea82-66f6-4570-8b48-fd7d85c62ea8",
   "metadata": {
    "tags": []
   },
   "source": [
    "# Run Script"
   ]
  },
  {
   "cell_type": "code",
   "execution_count": 20,
   "id": "c0efc833-257a-4b53-89b3-511e8ab01b92",
   "metadata": {
    "tags": []
   },
   "outputs": [
    {
     "name": "stdout",
     "output_type": "stream",
     "text": [
      "+ pushd dreambooth\n",
      "~/ray/doc/source/templates/05_dreambooth_finetuning/dreambooth ~/ray/doc/source/templates/05_dreambooth_finetuning\n",
      "+ export DATA_PREFIX=/tmp\n",
      "+ DATA_PREFIX=/tmp\n",
      "+ export ORIG_MODEL_NAME=CompVis/stable-diffusion-v1-4\n",
      "+ ORIG_MODEL_NAME=CompVis/stable-diffusion-v1-4\n",
      "+ export ORIG_MODEL_HASH=b95be7d6f134c3a9e62ee616f310733567f069ce\n",
      "+ ORIG_MODEL_HASH=b95be7d6f134c3a9e62ee616f310733567f069ce\n",
      "+ export ORIG_MODEL_DIR=/tmp/model-orig\n",
      "+ ORIG_MODEL_DIR=/tmp/model-orig\n",
      "+ export ORIG_MODEL_PATH=/tmp/model-orig/models--CompVis--stable-diffusion-v1-4/snapshots/b95be7d6f134c3a9e62ee616f310733567f069ce\n",
      "+ ORIG_MODEL_PATH=/tmp/model-orig/models--CompVis--stable-diffusion-v1-4/snapshots/b95be7d6f134c3a9e62ee616f310733567f069ce\n",
      "+ export TUNED_MODEL_DIR=/tmp/model-tuned\n",
      "+ TUNED_MODEL_DIR=/tmp/model-tuned\n",
      "+ export IMAGES_REG_DIR=/tmp/images-reg\n",
      "+ IMAGES_REG_DIR=/tmp/images-reg\n",
      "+ export IMAGES_OWN_DIR=/tmp/images-own\n",
      "+ IMAGES_OWN_DIR=/tmp/images-own\n",
      "+ export IMAGES_NEW_DIR=/tmp/images-new\n",
      "+ IMAGES_NEW_DIR=/tmp/images-new\n",
      "+ export NUM_WORKERS=2\n",
      "+ NUM_WORKERS=2\n",
      "+ mkdir -p /tmp/model-orig /tmp/model-tuned /tmp/images-reg /tmp/images-own /tmp/images-new\n",
      "+ export UNIQUE_TOKEN=unqtkn\n",
      "+ UNIQUE_TOKEN=unqtkn\n",
      "+ skip_image_setup=false\n",
      "+ use_lora=false\n",
      "+ python cache_model.py --model_dir=/tmp/model-orig --model_name=CompVis/stable-diffusion-v1-4 --revision=b95be7d6f134c3a9e62ee616f310733567f069ce\n",
      "Fetching 31 files: 100%|█████████████████████| 31/31 [00:00<00:00, 12351.42it/s]\n",
      "+ false\n",
      "+ download_image\n",
      "+ export CLASS_NAME=dog\n",
      "+ CLASS_NAME=dog\n",
      "+ python download_example_dataset.py ./images/dog\n",
      "Fetching 5 files: 100%|███████████████████████████| 5/5 [00:00<00:00, 86.63it/s]\n",
      "+ export INSTANCE_DIR=./images/dog\n",
      "+ INSTANCE_DIR=./images/dog\n",
      "+ cp -rf ./images/dog/alvan-nee-9M0tSjb-cpA-unsplash.jpeg ./images/dog/alvan-nee-bQaAJCbNq3g-unsplash.jpeg ./images/dog/alvan-nee-brFsZ7qszSY-unsplash.jpeg ./images/dog/alvan-nee-eoqnr8ikwFE-unsplash.jpeg ./images/dog/alvan-nee-Id1DBHv4fbg-unsplash.jpeg /tmp/images-own/\n",
      "+ rm -rf '/tmp/images-reg/*.jpg'\n",
      "+ python generate.py --model_dir=/tmp/model-orig/models--CompVis--stable-diffusion-v1-4/snapshots/b95be7d6f134c3a9e62ee616f310733567f069ce --output_dir=/tmp/images-reg '--prompts=photo of a dog' --num_samples_per_prompt=200 --use_ray_data\n",
      "Traceback (most recent call last):\n",
      "  File \"/home/jovyan/ray/doc/source/templates/05_dreambooth_finetuning/dreambooth/generate.py\", line 9, in <module>\n",
      "    from generate_utils import get_pipeline\n",
      "  File \"/home/jovyan/ray/doc/source/templates/05_dreambooth_finetuning/dreambooth/generate_utils.py\", line 2, in <module>\n",
      "    from diffusers.loaders import LoraLoaderMixin\n",
      "ImportError: cannot import name 'LoraLoaderMixin' from 'diffusers.loaders' (/opt/conda/lib/python3.10/site-packages/diffusers/loaders/__init__.py)\n"
     ]
    }
   ],
   "source": [
    "!bash ./dreambooth_run.sh"
   ]
  },
  {
   "cell_type": "code",
   "execution_count": 24,
   "id": "ed3e600d-1fa3-4360-b746-9e813425a790",
   "metadata": {
    "tags": []
   },
   "outputs": [
    {
     "ename": "ImportError",
     "evalue": "cannot import name 'StableDiffusionXLLoraLoaderMixin' from 'diffusers.loaders' (/opt/conda/lib/python3.10/site-packages/diffusers/loaders/__init__.py)",
     "output_type": "error",
     "traceback": [
      "\u001b[0;31m---------------------------------------------------------------------------\u001b[0m",
      "\u001b[0;31mImportError\u001b[0m                               Traceback (most recent call last)",
      "Cell \u001b[0;32mIn[24], line 1\u001b[0m\n\u001b[0;32m----> 1\u001b[0m \u001b[38;5;28;01mfrom\u001b[39;00m \u001b[38;5;21;01mdiffusers\u001b[39;00m\u001b[38;5;21;01m.\u001b[39;00m\u001b[38;5;21;01mloaders\u001b[39;00m \u001b[38;5;28;01mimport\u001b[39;00m StableDiffusionXLLoraLoaderMixin\n",
      "\u001b[0;31mImportError\u001b[0m: cannot import name 'StableDiffusionXLLoraLoaderMixin' from 'diffusers.loaders' (/opt/conda/lib/python3.10/site-packages/diffusers/loaders/__init__.py)"
     ]
    }
   ],
   "source": [
    " from diffusers.loaders import StableDiffusionXLLoraLoaderMixin"
   ]
  },
  {
   "cell_type": "code",
   "execution_count": null,
   "id": "6f03f892-f395-46ab-88e5-ef5afc624ed1",
   "metadata": {},
   "outputs": [],
   "source": []
  }
 ],
 "metadata": {
  "kernelspec": {
   "display_name": "Python 3 (ipykernel)",
   "language": "python",
   "name": "python3"
  },
  "language_info": {
   "codemirror_mode": {
    "name": "ipython",
    "version": 3
   },
   "file_extension": ".py",
   "mimetype": "text/x-python",
   "name": "python",
   "nbconvert_exporter": "python",
   "pygments_lexer": "ipython3",
   "version": "3.10.10"
  }
 },
 "nbformat": 4,
 "nbformat_minor": 5
}
